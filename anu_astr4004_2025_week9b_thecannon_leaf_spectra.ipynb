{
 "cells": [
  {
   "cell_type": "code",
   "execution_count": null,
   "id": "38b39c46",
   "metadata": {},
   "outputs": [],
   "source": [
    "import matplotlib.pyplot as plt\n",
    "%matplotlib inline\n",
    "import pandas as pd\n",
    "import numpy as np\n",
    "np.__version__"
   ]
  },
  {
   "cell_type": "code",
   "execution_count": null,
   "id": "bd61031f-4519-432b-8f43-21001e78527b",
   "metadata": {},
   "outputs": [],
   "source": [
    "import thecannon as tc\n",
    "tc.__version__"
   ]
  },
  {
   "cell_type": "code",
   "execution_count": null,
   "id": "91ffe6a6",
   "metadata": {},
   "outputs": [],
   "source": [
    "# Read in the training labels and model spectra\n",
    "# These are 1000 samples of labels 'EWT','LMA','N','CHL','CAR','ANT'\n",
    "# used to modelled spectra at wavelengths 400..1..2500nm with the PROSPECT code\n",
    "LUC_labels  = pd.read_csv('data/PROSPECT_input.csv')\n",
    "LUC_spectra = pd.read_csv('data/PROSPECT_LUT.csv')"
   ]
  },
  {
   "cell_type": "code",
   "execution_count": null,
   "id": "4cf697c5",
   "metadata": {},
   "outputs": [],
   "source": [
    "# Prepare input for a complete and restrictred Cannon model\n",
    "prospect_wavelength = np.arange(400,2501,1)\n",
    "\n",
    "labels = ['EWT','LMA','N','CHL','CAR','ANT']\n",
    "prospect_labels = np.array(LUC_labels[labels])\n",
    "\n",
    "labels_restricted = ['EWT','LMA']\n",
    "prospect_labels_restricted = np.array(LUC_labels[labels_restricted])\n",
    "\n",
    "prospect_spectra = np.array(LUC_spectra).T\n",
    "prospect_spectra_ivar = (100./prospect_spectra)**2.0 # SNR 100"
   ]
  },
  {
   "cell_type": "markdown",
   "id": "b42d2615",
   "metadata": {},
   "source": [
    "# Task 1: Visualise your data. How are labels distributed and how do spectra look like?"
   ]
  },
  {
   "cell_type": "code",
   "execution_count": null,
   "id": "b5d2c6fd",
   "metadata": {},
   "outputs": [],
   "source": [
    "# Visualise the labels"
   ]
  },
  {
   "cell_type": "code",
   "execution_count": null,
   "id": "eb0368b8",
   "metadata": {},
   "outputs": [],
   "source": [
    "# Visualise the spectra"
   ]
  },
  {
   "cell_type": "markdown",
   "id": "808352b5",
   "metadata": {},
   "source": [
    "# Task 2: Train a quadratic model that can generate fit labels when testing new spectra"
   ]
  },
  {
   "cell_type": "code",
   "execution_count": null,
   "id": "b0fdd061",
   "metadata": {},
   "outputs": [],
   "source": [
    "# Initialise The Cannon\n",
    "prospect_model = tc.CannonModel(\n",
    "    prospect_labels,\n",
    "    prospect_spectra, prospect_spectra_ivar,\n",
    "    vectorizer=tc.vectorizer.PolynomialVectorizer(list(labels), 2),dispersion=prospect_wavelength)"
   ]
  },
  {
   "cell_type": "code",
   "execution_count": null,
   "id": "255de3f1",
   "metadata": {},
   "outputs": [],
   "source": [
    "# Train and save The Cannon\n",
    "prospect_theta, prospect_s2, prospect_metadata = prospect_model.train(threads=1)"
   ]
  },
  {
   "cell_type": "code",
   "execution_count": null,
   "id": "edddd54a",
   "metadata": {},
   "outputs": [],
   "source": [
    "# If we want to, we can save the model to file and read it back in\n",
    "try:\n",
    "    prospect_model.write('data/prospect_model.model',overwrite=True)\n",
    "    prospect_model = tc.CannonModel.read('data/prospect_model.model')\n",
    "except:\n",
    "    print(\"Could not write/read model file\")"
   ]
  },
  {
   "cell_type": "markdown",
   "id": "345df9d0",
   "metadata": {},
   "source": [
    "# Task 3: Visualise the linear coeffecients of the quadratic model"
   ]
  },
  {
   "cell_type": "code",
   "execution_count": null,
   "id": "08fb3089",
   "metadata": {},
   "outputs": [],
   "source": [
    "# Let's first have a look at the model coefficients\n",
    "print(np.shape(prospect_theta))\n",
    "prospect_theta"
   ]
  },
  {
   "cell_type": "code",
   "execution_count": null,
   "id": "8bee95bf",
   "metadata": {},
   "outputs": [],
   "source": [
    "# Now let's visualise the linear coeffecients of the quadratic model\n",
    "\n",
    "plt.figure(figsize=(12,5))\n",
    "# for i in range(len(labels)):\n",
    "#     plt.plot(...)\n",
    "# plt.legend()\n",
    "plt.xlabel('Wavelength [nm]',fontsize=15)\n",
    "plt.ylabel('Linear coeffecient',fontsize=15)\n",
    "plt.show()"
   ]
  },
  {
   "cell_type": "markdown",
   "id": "d16d29ee",
   "metadata": {},
   "source": [
    "# Task 4: Can we actually recover the labels for the training set?"
   ]
  },
  {
   "cell_type": "code",
   "execution_count": null,
   "id": "a4c69109",
   "metadata": {},
   "outputs": [],
   "source": [
    "prospect_test_labels, prospect_test_cov, prospect_metadata = prospect_model.test(prospect_spectra, prospect_spectra_ivar)"
   ]
  },
  {
   "cell_type": "code",
   "execution_count": null,
   "id": "edc6ae8a",
   "metadata": {},
   "outputs": [],
   "source": [
    "# Let's plot how the INPUT labels compare to the OUTPUT labels\n",
    "def plot_comparison(label, prospect_labels, prospect_test_labels, plot_mean_and_std=False):\n",
    "    \"\"\" Plot comparison of INPUT vs OUTPUT labels from The Cannon model \"\"\"\n",
    "\n",
    "    # Identify the index of the label we want to plot\n",
    "    index = labels.index(label)\n",
    "\n",
    "    # Set up the figure with 2 panels (one for label comparison, one for residuals)\n",
    "    f, gs = plt.subplots(2,1, figsize=(6,6), gridspec_kw={'height_ratios': [3,1]}, sharex=True)\n",
    "\n",
    "    # First panel: INPUT vs OUTPUT\n",
    "    ax = gs[0]\n",
    "    ax.set_ylabel('Output '+labels[index],fontsize=15)\n",
    "\n",
    "    # Plot the comparison\n",
    "    ax.plot(prospect_labels[:,index],prospect_test_labels[:,index],'k.')\n",
    "\n",
    "    # Let's set the limits to the min/max of either INPUT or OUTPUT\n",
    "    min_val = np.min([np.min(prospect_labels[:,index]),np.min(prospect_test_labels[:,index])])\n",
    "    max_val = np.max([np.max(prospect_labels[:,index]),np.max(prospect_test_labels[:,index])])\n",
    "    min_val_margin = min_val - 0.1*(max_val-min_val)\n",
    "    max_val_margin = max_val + 0.1*(max_val-min_val)\n",
    "\n",
    "    # Set the limits and plot the 1:1 line, which should be diagonal now\n",
    "    ax.set_xlim(min_val_margin,max_val_margin)\n",
    "    ax.set_ylim(min_val_margin, max_val_margin)\n",
    "    ax.plot([min_val_margin,max_val_margin],[min_val_margin,max_val_margin],'r-')\n",
    "\n",
    "    if plot_mean_and_std:\n",
    "        raise NotImplementedError(\"You need to implement the mean and std plotting\")\n",
    "\n",
    "    # Second panel: Residuals\n",
    "    ax = gs[1]\n",
    "    ax.set_xlabel('Input '+labels[index],fontsize=15)\n",
    "    ax.set_ylabel('Output - Input '+labels[index],fontsize=15)\n",
    "\n",
    "    # Plot the residuals\n",
    "    ax.plot(prospect_labels[:,index],prospect_test_labels[:,index]-prospect_labels[:,index],'k.')\n",
    "    ax.axhline(0, color='r', ls='-')\n",
    "    ax.set_xlim(min_val_margin,max_val_margin)\n",
    "\n",
    "    plt.show()\n",
    "    plt.close()"
   ]
  },
  {
   "cell_type": "markdown",
   "id": "c02f8e39",
   "metadata": {},
   "source": [
    "## Question: Which of the 2 panels do you find more informative and why?"
   ]
  },
  {
   "cell_type": "code",
   "execution_count": null,
   "id": "dd9a3738",
   "metadata": {},
   "outputs": [],
   "source": [
    "for label in labels:\n",
    "    plot_comparison(label, prospect_labels, prospect_test_labels)"
   ]
  },
  {
   "cell_type": "markdown",
   "id": "43f75897",
   "metadata": {},
   "source": [
    "# Task 6: How well can we recover the labels?\n",
    "\n",
    "Adjust the function `plot_comparison(label, prospect_labels, prospect_test_labels)` to that it also plot the mean and standard deviation of the residuals.\n",
    "\n",
    "Use the part of the function that is activated with the keyword `plot_mean_and_std`!"
   ]
  },
  {
   "cell_type": "code",
   "execution_count": null,
   "id": "4279146e",
   "metadata": {},
   "outputs": [],
   "source": [
    "for label in labels:\n",
    "    plot_comparison(label, prospect_labels, prospect_test_labels, plot_mean_and_std=True)"
   ]
  },
  {
   "cell_type": "markdown",
   "id": "53382fa8",
   "metadata": {},
   "source": [
    "## Task 7: If there is time: Try to only predict EWT and LMA (these are the two most important measurements of the spectra)"
   ]
  },
  {
   "cell_type": "code",
   "execution_count": null,
   "id": "fe597a38",
   "metadata": {},
   "outputs": [],
   "source": [
    "labels_restricted = ['EWT','LMA']\n",
    "prospect_labels_restricted = np.array(LUC_labels[labels_restricted])\n",
    "\n",
    "prospect_spectra = np.array(LUC_spectra).T\n",
    "prospect_spectra_ivar = (100./prospect_spectra)**2.0 # SNR 100"
   ]
  },
  {
   "cell_type": "markdown",
   "id": "dc6fcb1c",
   "metadata": {},
   "source": [
    "### How well can we recover the labels if we only use EWT and LMA to model the spectra?"
   ]
  },
  {
   "cell_type": "code",
   "execution_count": null,
   "id": "3cb3961f",
   "metadata": {},
   "outputs": [],
   "source": [
    "# You basically want to repeat the steps above, but only using the restricted labels\n",
    "# Initialise The Cannon\n",
    "# Train The Cannon\n",
    "# Test The Cannon"
   ]
  },
  {
   "cell_type": "code",
   "execution_count": null,
   "id": "19248833",
   "metadata": {},
   "outputs": [],
   "source": [
    "# To quantify how well you did, you can use the function above to compare INPUT and OUTPUT labels\n",
    "# We basically want to see how well we can recover the labels with only 2 labels instead of 6\n",
    "\n",
    "# Plot the 1:1 plots first"
   ]
  },
  {
   "cell_type": "code",
   "execution_count": null,
   "id": "cfa59bf2",
   "metadata": {},
   "outputs": [],
   "source": [
    "# Then compute the mean and std of the residuals for both the 6-label and the 2-label model and compare them for EWT and LMA"
   ]
  }
 ],
 "metadata": {
  "kernelspec": {
   "display_name": "base",
   "language": "python",
   "name": "python3"
  },
  "language_info": {
   "codemirror_mode": {
    "name": "ipython",
    "version": 3
   },
   "file_extension": ".py",
   "mimetype": "text/x-python",
   "name": "python",
   "nbconvert_exporter": "python",
   "pygments_lexer": "ipython3",
   "version": "3.9.12"
  }
 },
 "nbformat": 4,
 "nbformat_minor": 5
}

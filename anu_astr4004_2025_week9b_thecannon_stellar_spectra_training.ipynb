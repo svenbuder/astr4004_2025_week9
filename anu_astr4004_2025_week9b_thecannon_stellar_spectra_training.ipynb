{
 "cells": [
  {
   "cell_type": "markdown",
   "metadata": {},
   "source": [
    "# Ages and Masses from GALAH Spectra with The Cannon\n",
    "\n",
    "## Part 2: Training and testing The Cannon"
   ]
  },
  {
   "cell_type": "code",
   "execution_count": null,
   "metadata": {},
   "outputs": [],
   "source": [
    "try:\n",
    "    %matplotlib inline\n",
    "    %config InlineBackend.figure_format='retina'\n",
    "except:\n",
    "    pass\n",
    "\n",
    "from astropy.io import fits\n",
    "import numpy as np\n",
    "from astropy.table import Table, join\n",
    "from scipy.io import readsav\n",
    "import astropy.io.fits as pyfits\n",
    "import matplotlib.pyplot as plt\n",
    "import pickle\n",
    "import thecannon as tc"
   ]
  },
  {
   "cell_type": "markdown",
   "metadata": {},
   "source": [
    "# Reading in all important information for The Cannon\n",
    "\n",
    "We have spectra with P pixels.\n",
    "We have S training set stars\n",
    "We have L labels\n",
    "\n",
    "What we need:\n",
    "\n",
    "labels : tuple([label1, label2, label3, ..., labelL]) of SxL pixels\n",
    "\n",
    "wavelength_array : array with P pixels\n",
    "\n",
    "training_set_flux : array with PxS pixels\n",
    "\n",
    "training_set_ivar : array with PxS pixels"
   ]
  },
  {
   "cell_type": "code",
   "execution_count": null,
   "metadata": {},
   "outputs": [],
   "source": [
    "# Setting up the labels\n",
    "\n",
    "trainingset = Table.read('data/galah_cannon_trainingset.fits')\n",
    "trainingset['log_mass'] = np.log10(trainingset['mass'])\n",
    "# In case we come back to this after a long break: Pring what training set labels are actually available\n",
    "print(trainingset.keys())\n",
    "\n",
    "labels = tuple(['teff', 'logg', 'fe_h'])\n",
    "# labels = tuple(['teff', 'logg', 'fe_h', 'log_mass'])\n",
    "# labels = tuple(['teff', 'logg', 'fe_h', 'log_mass','mg_fe','al_fe','mn_fe'])\n",
    "\n",
    "training_set_labels = Table()\n",
    "for label in labels:\n",
    "    training_set_labels[label] = trainingset[label]"
   ]
  },
  {
   "cell_type": "code",
   "execution_count": null,
   "metadata": {},
   "outputs": [],
   "source": [
    "# Setting up the wavelength\n",
    "wavelength_array = np.loadtxt('data/galah_cannon_wavelength.txt')"
   ]
  },
  {
   "cell_type": "code",
   "execution_count": null,
   "metadata": {},
   "outputs": [],
   "source": [
    "# Setting up the flux and ivar arrays\n",
    "try:\n",
    "    flux_ivar_file_opener = open('data/galah_cannon_trainingset_flux_ivar.pickle','rb')\n",
    "except:\n",
    "    print(\"You did not have the spectrum file downloaded yet. Doing that now with the wget package\")\n",
    "    import wget\n",
    "    wget.download('https://www.mso.anu.edu.au/~buder/galah_age_mass/galah_cannon_trainingset_flux_ivar.pickle', 'data/galah_cannon_trainingset_flux_ivar.pickle')\n",
    "    print('Done.')\n",
    "    flux_ivar_file_opener = open('data/galah_cannon_trainingset_flux_ivar.pickle','rb')\n",
    "\n",
    "training_set_flux,training_set_ivar = pickle.load(flux_ivar_file_opener)\n",
    "flux_ivar_file_opener.close()"
   ]
  },
  {
   "cell_type": "code",
   "execution_count": null,
   "metadata": {},
   "outputs": [],
   "source": [
    "# Here we can simply plot a training set spectrum to see if it is good or should be rejected\n",
    "# remember: ivar = 1/uncertainty**2 -> uncertainty == sqrt(1/ivar)\n",
    "\n",
    "def plot_training_set_spectrum(index, ccds=[1,2,3,4]):\n",
    "    \n",
    "    f, gs = plt.subplots(1,len(ccds),figsize=(15,3),sharey=True)\n",
    "    plt.suptitle('Star '+str(index)+': '+str(trainingset['sobject_id'][index]),x=0.5,y=1.05)\n",
    "    \n",
    "    for ccd in ccds:\n",
    "        ax=gs[ccd-1]\n",
    "        \n",
    "        in_wavelength_range = (wavelength_array >= (3+ccd)*1000) & (wavelength_array <= (4+ccd)*1000)\n",
    "\n",
    "        ax.fill_between(\n",
    "            wavelength_array[in_wavelength_range],\n",
    "            training_set_flux[index,in_wavelength_range]-np.sqrt(1/training_set_ivar[index,in_wavelength_range]),\n",
    "            training_set_flux[index,in_wavelength_range]+np.sqrt(1/training_set_ivar[index,in_wavelength_range]),\n",
    "            color='lightgrey',label='Uncertainty'\n",
    "        )\n",
    "        \n",
    "        ax.plot(\n",
    "            wavelength_array[in_wavelength_range],\n",
    "            training_set_flux[index,in_wavelength_range],\n",
    "            lw=0.2,c='k',label='Flux'\n",
    "        )\n",
    "        \n",
    "        ax.set_xlabel('Wavelength CCD'+str(ccd))\n",
    "        \n",
    "        if ccd == 1:\n",
    "            ax.set_ylabel('Flux [norm]')\n",
    "        if ccd == 4:\n",
    "            ax.legend(loc='lower right')\n",
    "\n",
    "    plt.tight_layout()\n",
    "    plt.show()\n",
    "    plt.close()\n",
    "\n",
    "plot_training_set_spectrum(0)\n",
    "plot_training_set_spectrum(100)\n",
    "plot_training_set_spectrum(200)"
   ]
  },
  {
   "cell_type": "markdown",
   "metadata": {},
   "source": [
    "# Setting up, Training, and Testing The Cannon"
   ]
  },
  {
   "cell_type": "code",
   "execution_count": null,
   "metadata": {},
   "outputs": [],
   "source": [
    "# We can use a linear, quadratic, etc. model. A quadratic one has order 2\n",
    "order = 1#2\n",
    "\n",
    "# Because we might want to play around with the labels that we train on, let's put the used labels into the model name\n",
    "model_file = 'cannon_model_galah_age_mass_order'+str(order)+'_'+\"_\".join(labels)\n",
    "\n",
    "# Now if we have already trained the Cannon, we can simply read in the existing Model\n",
    "try:\n",
    "    model = tc.CannonModel.read('data/'+model_file+'.model')\n",
    "except:\n",
    "    # There is no CannonModel available yet\n",
    "    # Let's setup the Cannon model.\n",
    "    model = tc.CannonModel(\n",
    "        training_set_labels, training_set_flux, training_set_ivar,\n",
    "        vectorizer=tc.vectorizer.PolynomialVectorizer(labels, order),dispersion=wavelength_array)"
   ]
  },
  {
   "cell_type": "code",
   "execution_count": null,
   "metadata": {},
   "outputs": [],
   "source": [
    "# This is where the magic happens! We train the Cannon (if it is not yet trained)! \n",
    "\n",
    "# This will start with several \"red\" messages. \n",
    "# A common warning is \"Optimization warning (l_bfgs_b): b'ABNORMAL_TERMINATION_IN_LNSRCH\"\n",
    "# Don't panic - that just means it will take a different optimisation algorithm than the default one.\n",
    "\n",
    "if not model.is_trained:\n",
    "    print('Training The Cannon')\n",
    "    theta, s2, metadata = model.train(threads=1)\n",
    "    \n",
    "    # Now that the magic is done, let's save the result\n",
    "    model.write('data/'+model_file+'.model',overwrite=True)\n",
    "else:\n",
    "    print('The Cannon is already trained')\n",
    "    \n",
    "# Now let's run the Cannon on its own training set to estimate labels and uncertainties\n",
    "print('Testing The Cannon')\n",
    "test_labels, cov, metadata = model.test(training_set_flux, training_set_ivar)"
   ]
  },
  {
   "cell_type": "code",
   "execution_count": null,
   "metadata": {
    "code_folding": [],
    "scrolled": false
   },
   "outputs": [],
   "source": [
    "# Now let's plot some of the coefficients to get an idea, which pixels the model considers interesting.\n",
    "# Because we have 4 different CCDs, let's plot them next to each other and neglect the gaps.\n",
    "\n",
    "def plot_coefficients(model, index, ccds=[1,2,3,4]):\n",
    "    \n",
    "    # let's have an option to plot the scatter with a negative index\n",
    "    if index == -1:\n",
    "        ylabel = 'scatter'\n",
    "    else:\n",
    "        ylabel = model.vectorizer.get_human_readable_label_term(index,\n",
    "                label_names = model.vectorizer.label_names, mul=r'\\cdot', pow='^')\n",
    "        \n",
    "    f, gs = plt.subplots(1,len(ccds),figsize=(15,2),sharey=True)\n",
    "    \n",
    "    for ccd in ccds:\n",
    "        ax=gs[ccd-1]\n",
    "        \n",
    "        in_wavelength_range = (wavelength_array >= (3+ccd)*1000) & (wavelength_array <= (4+ccd)*1000)\n",
    "\n",
    "        # The Cannon Model also knows where it is not well trained.\n",
    "        # This is saved in the \"model.s2\" and can be shown as scatter\n",
    "        if index == -1:\n",
    "            ax.plot(\n",
    "                wavelength_array[in_wavelength_range],\n",
    "                model.s2[in_wavelength_range]**0.5,\n",
    "                lw=0.5,c='C0'\n",
    "            )\n",
    "            #ax.set_ylim(0,0.1)\n",
    "        else:\n",
    "            ax.plot(\n",
    "                wavelength_array[in_wavelength_range],\n",
    "                model.theta[in_wavelength_range,index],\n",
    "                lw=0.5,c='C0',label='TheCannon'\n",
    "            )\n",
    "        ax.set_xlabel('Wavelength CCD'+str(ccd))\n",
    "\n",
    "        if ccd==1:\n",
    "            ax.set_ylabel(ylabel)\n",
    "    plt.tight_layout()\n",
    "    plt.savefig('figures/coeff_'+model_file+'_'+ylabel+'.png',dpi=300,bbox_inches='tight')\n",
    "    plt.show()\n",
    "    plt.close()\n",
    "\n",
    "#for index in range(-1,np.shape(model.theta)[1]):\n",
    "for index in range(-1,len(labels)+1):\n",
    "    plot_coefficients(model, index, ccds=[1,2,3,4])"
   ]
  },
  {
   "cell_type": "code",
   "execution_count": null,
   "metadata": {},
   "outputs": [],
   "source": [
    "fig_comparison = tc.plot.one_to_one(model, test_labels)\n",
    "fig_comparison.savefig('figures/1on1_'+model_file+'.png',dpi=200,bbox_inches='tight')\n",
    "plt.show()"
   ]
  },
  {
   "cell_type": "code",
   "execution_count": null,
   "metadata": {},
   "outputs": [],
   "source": []
  }
 ],
 "metadata": {
  "kernelspec": {
   "display_name": "py_3_12",
   "language": "python",
   "name": "python3"
  },
  "language_info": {
   "codemirror_mode": {
    "name": "ipython",
    "version": 3
   },
   "file_extension": ".py",
   "mimetype": "text/x-python",
   "name": "python",
   "nbconvert_exporter": "python",
   "pygments_lexer": "ipython3",
   "version": "3.12.11"
  }
 },
 "nbformat": 4,
 "nbformat_minor": 2
}

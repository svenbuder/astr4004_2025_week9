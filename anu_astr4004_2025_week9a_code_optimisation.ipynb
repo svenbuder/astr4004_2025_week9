{
 "cells": [
  {
   "cell_type": "markdown",
   "id": "3aece8e8",
   "metadata": {},
   "source": [
    "\n",
    "# Beat the Machine: Optimization Tutorial\n",
    "\n",
    "We time each approach and count inner-loop work to understand **where the compute cost lives**\n",
    "and how **early pruning + loop ordering** speeds things up.\n",
    "\n",
    "**Problem:** Use digits 1–9 exactly once to form three 3-digit numbers ABC + DEF = GHI with:\n",
    "1. A < D < G\n",
    "2. C even, F odd\n",
    "3. (G + H + I) % 9 == 0\n"
   ]
  },
  {
   "cell_type": "markdown",
   "id": "e1b261a2",
   "metadata": {},
   "source": [
    "## V0 — Naive nested loops (checks late)"
   ]
  },
  {
   "cell_type": "code",
   "execution_count": 3,
   "id": "a3d1e662",
   "metadata": {},
   "outputs": [
    {
     "data": {
      "text/plain": [
       "(136, 287, 459)"
      ]
     },
     "execution_count": 3,
     "metadata": {},
     "output_type": "execute_result"
    }
   ],
   "source": [
    "\n",
    "from collections import defaultdict\n",
    "\n",
    "digits = list(range(1,10))\n",
    "\n",
    "def as_abc(a,b,c):\n",
    "    return 100*a + 10*b + c\n",
    "\n",
    "def solve_v0_naive():\n",
    "    counters = defaultdict(int)\n",
    "    solutions = []\n",
    "\n",
    "    for A in digits:\n",
    "        for B in [x for x in digits if x != A]:\n",
    "            for C in [x for x in digits if x not in (A,B)]:\n",
    "                for D in [x for x in digits if x not in (A,B,C)]:\n",
    "                    for E in [x for x in digits if x not in (A,B,C,D)]:\n",
    "                        for F in [x for x in digits if x not in (A,B,C,D,E)]:\n",
    "                            for G in [x for x in digits if x not in (A,B,C,D,E,F)]:\n",
    "                                for H in [x for x in digits if x not in (A,B,C,D,E,F,G)]:\n",
    "                                    for I in [x for x in digits if x not in (A,B,C,D,E,F,G,H)]:\n",
    "                                        counters[\"v0_innermost\"] += 1\n",
    "                                        if not (A < D < G):\n",
    "                                            continue\n",
    "                                        if C % 2 != 0 or F % 2 != 1:\n",
    "                                            continue\n",
    "                                        if (G + H + I) % 9 != 0:\n",
    "                                            continue\n",
    "                                        ABC = as_abc(A,B,C)\n",
    "                                        DEF = as_abc(D,E,F)\n",
    "                                        GHI = as_abc(G,H,I)\n",
    "                                        if ABC + DEF == GHI:\n",
    "                                            solutions.append((ABC, DEF, GHI))\n",
    "    return solutions, counters\n",
    "\n",
    "sols, counters = solve_v0_naive()\n",
    "len(sols), sorted(sols)[:3], counters\n",
    "\n",
    "(136,287,459)\n"
   ]
  },
  {
   "cell_type": "markdown",
   "id": "3e38e097",
   "metadata": {},
   "source": [
    "## V1 — Permutations baseline"
   ]
  },
  {
   "cell_type": "code",
   "execution_count": null,
   "id": "3417878d",
   "metadata": {},
   "outputs": [],
   "source": [
    "\n",
    "from itertools import permutations\n",
    "from collections import defaultdict\n",
    "\n",
    "digits = list(range(1,10))\n",
    "\n",
    "def as_abc(a,b,c):\n",
    "    return 100*a + 10*b + c\n",
    "\n",
    "def solve_v1_permutations():\n",
    "    counters = defaultdict(int)\n",
    "    solutions = []\n",
    "    for A,B,C,D,E,F,G,H,I in permutations(digits, 9):\n",
    "        counters[\"v1_innermost\"] += 1\n",
    "        if not (A < D < G):\n",
    "            continue\n",
    "        if C % 2 != 0 or F % 2 != 1:\n",
    "            continue\n",
    "        if (G + H + I) % 9 != 0:\n",
    "            continue\n",
    "        ABC = as_abc(A,B,C)\n",
    "        DEF = as_abc(D,E,F)\n",
    "        GHI = as_abc(G,H,I)\n",
    "        if ABC + DEF == GHI:\n",
    "            solutions.append((ABC, DEF, GHI))\n",
    "    return solutions, counters\n",
    "\n",
    "sols, counters = solve_v1_permutations()\n",
    "len(sols), sorted(sols)[:3], counters\n"
   ]
  },
  {
   "cell_type": "markdown",
   "id": "9fe2e6f2",
   "metadata": {},
   "source": [
    "## V2 — Early pruning at each depth"
   ]
  },
  {
   "cell_type": "code",
   "execution_count": null,
   "id": "8e0425df",
   "metadata": {},
   "outputs": [],
   "source": [
    "\n",
    "from collections import defaultdict\n",
    "\n",
    "digits = list(range(1,10))\n",
    "\n",
    "def as_abc(a,b,c):\n",
    "    return 100*a + 10*b + c\n",
    "\n",
    "def solve_v2_prune_early():\n",
    "    counters = defaultdict(int)\n",
    "    solutions = []\n",
    "\n",
    "    for A in digits:\n",
    "        for D in [x for x in digits if x != A and x > A]:\n",
    "            for G in [x for x in digits if x not in (A, D) and x > D]:\n",
    "                used_ADG = {A, D, G}\n",
    "\n",
    "                for C in [x for x in digits if x not in used_ADG and x % 2 == 0]:\n",
    "                    for F in [x for x in digits if x not in used_ADG and x != C and x % 2 == 1]:\n",
    "                        used_ADGCF = used_ADG | {C, F}\n",
    "\n",
    "                        for B in [x for x in digits if x not in used_ADGCF]:\n",
    "                            for E in [x for x in digits if x not in used_ADGCF and x != B]:\n",
    "                                used_up_to_E = used_ADGCF | {B, E}\n",
    "                                for H in [x for x in digits if x not in used_up_to_E]:\n",
    "                                    for I in [x for x in digits if x not in used_up_to_E and x != H]:\n",
    "                                        counters[\"v2_innermost\"] += 1\n",
    "                                        if (G + H + I) % 9 != 0:\n",
    "                                            continue\n",
    "                                        ABC = as_abc(A,B,C)\n",
    "                                        DEF = as_abc(D,E,F)\n",
    "                                        GHI = as_abc(G,H,I)\n",
    "                                        if ABC + DEF == GHI:\n",
    "                                            solutions.append((ABC, DEF, GHI))\n",
    "    return solutions, counters\n",
    "\n",
    "sols, counters = solve_v2_prune_early()\n",
    "len(sols), sorted(sols)[:3], counters\n"
   ]
  },
  {
   "cell_type": "markdown",
   "id": "bb0d0642",
   "metadata": {},
   "source": [
    "## V3 — Order + carry pruning + early divisibility"
   ]
  },
  {
   "cell_type": "code",
   "execution_count": null,
   "id": "31367bfa",
   "metadata": {},
   "outputs": [],
   "source": [
    "\n",
    "from collections import defaultdict\n",
    "\n",
    "digits = list(range(1,10))\n",
    "\n",
    "def as_abc(a,b,c):\n",
    "    return 100*a + 10*b + c\n",
    "\n",
    "def solve_v3_carry_and_ordering():\n",
    "    counters = defaultdict(int)\n",
    "    solutions = []\n",
    "\n",
    "    for G in digits:\n",
    "        for H in [x for x in digits if x != G]:\n",
    "            for I in [x for x in digits if x not in (G,H)]:\n",
    "                counters[\"v3_pick_GHI\"] += 1\n",
    "                if (G + H + I) % 9 != 0:\n",
    "                    continue\n",
    "                used_GHI = {G,H,I}\n",
    "\n",
    "                lesser = [x for x in digits if x not in used_GHI and x < G]\n",
    "                for A in lesser:\n",
    "                    for D in [x for x in lesser if x > A]:\n",
    "                        used_ADGHI = used_GHI | {A, D}\n",
    "\n",
    "                        for C in [x for x in digits if x not in used_ADGHI and x % 2 == 0]:\n",
    "                            for F in [x for x in digits if x not in used_ADGHI and x != C and x % 2 == 1]:\n",
    "                                counters[\"v3_units_pairs\"] += 1\n",
    "\n",
    "                                u = C + F\n",
    "                                if I != (u % 10):\n",
    "                                    continue\n",
    "                                carry_u = u // 10\n",
    "\n",
    "                                used_ADGHI_CF = used_ADGHI | {C, F}\n",
    "\n",
    "                                tens_candidates = [ (B,E) for B in digits if B not in used_ADGHI_CF\n",
    "                                                   for E in digits if E not in used_ADGHI_CF and E != B ]\n",
    "                                counters[\"v3_tens_pairs_considered\"] += len(tens_candidates)\n",
    "\n",
    "                                for B,E in tens_candidates:\n",
    "                                    counters[\"v3_tens_pairs_loop\"] += 1\n",
    "                                    t = B + E + carry_u\n",
    "                                    if H != (t % 10):\n",
    "                                        continue\n",
    "                                    carry_t = t // 10\n",
    "\n",
    "                                    h = A + D + carry_t\n",
    "                                    if G != (h % 10):\n",
    "                                        continue\n",
    "                                    carry_h = h // 10\n",
    "                                    if carry_h != 0:\n",
    "                                        continue\n",
    "\n",
    "                                    ABC = as_abc(A,B,C)\n",
    "                                    DEF = as_abc(D,E,F)\n",
    "                                    GHI = as_abc(G,H,I)\n",
    "                                    if ABC + DEF == GHI:\n",
    "                                        solutions.append((ABC, DEF, GHI))\n",
    "\n",
    "    solutions = sorted(set(solutions))\n",
    "    return solutions, counters\n",
    "\n",
    "sols, counters = solve_v3_carry_and_ordering()\n",
    "len(sols), sorted(sols)[:3], counters\n"
   ]
  },
  {
   "cell_type": "markdown",
   "id": "bd89aede",
   "metadata": {},
   "source": [
    "## Timing comparison"
   ]
  },
  {
   "cell_type": "code",
   "execution_count": null,
   "id": "2ec84a29",
   "metadata": {},
   "outputs": [
    {
     "ename": "NameError",
     "evalue": "name 'solve_v0_permutations' is not defined",
     "output_type": "error",
     "traceback": [
      "\u001b[31m---------------------------------------------------------------------------\u001b[39m",
      "\u001b[31mNameError\u001b[39m                                 Traceback (most recent call last)",
      "\u001b[36mCell\u001b[39m\u001b[36m \u001b[39m\u001b[32mIn[5]\u001b[39m\u001b[32m, line 12\u001b[39m\n\u001b[32m      8\u001b[39m     \u001b[38;5;28;01mreturn\u001b[39;00m {\u001b[33m\"\u001b[39m\u001b[33mVersion\u001b[39m\u001b[33m\"\u001b[39m: name, \u001b[33m\"\u001b[39m\u001b[33mSeconds\u001b[39m\u001b[33m\"\u001b[39m: t1 - t0, \u001b[33m\"\u001b[39m\u001b[33mSolutions\u001b[39m\u001b[33m\"\u001b[39m: \u001b[38;5;28mlen\u001b[39m(sols), **counters}\n\u001b[32m     10\u001b[39m rows = []\n\u001b[32m     11\u001b[39m \u001b[38;5;28;01mfor\u001b[39;00m name, fn \u001b[38;5;129;01min\u001b[39;00m [\n\u001b[32m---> \u001b[39m\u001b[32m12\u001b[39m     (\u001b[33m\"\u001b[39m\u001b[33mV0: Permutations baseline\u001b[39m\u001b[33m\"\u001b[39m,            solve_v0_permutations),\n\u001b[32m     13\u001b[39m     (\u001b[33m\"\u001b[39m\u001b[33mV1: Naive nested loops (late checks)\u001b[39m\u001b[33m\"\u001b[39m, solve_v1_naive),\n\u001b[32m     14\u001b[39m     (\u001b[33m\"\u001b[39m\u001b[33mV2: Early pruning at each depth\u001b[39m\u001b[33m\"\u001b[39m,      solve_v2_prune_early),\n\u001b[32m     15\u001b[39m     (\u001b[33m\"\u001b[39m\u001b[33mV3: Order + carry pruning + early div\u001b[39m\u001b[33m\"\u001b[39m,solve_v3_carry_and_ordering),\n\u001b[32m     16\u001b[39m ]:\n\u001b[32m     17\u001b[39m     rows.append(run_and_time(fn, name))\n\u001b[32m     19\u001b[39m pd.DataFrame(rows).fillna(\u001b[32m0\u001b[39m)\n",
      "\u001b[31mNameError\u001b[39m: name 'solve_v0_permutations' is not defined"
     ]
    }
   ],
   "source": [
    "\n",
    "import time\n",
    "import pandas as pd\n",
    "\n",
    "def run_and_time(func, name):\n",
    "    t0 = time.perf_counter()\n",
    "    sols, counters = func()\n",
    "    t1 = time.perf_counter()\n",
    "    return {\"Version\": name, \"Seconds\": t1 - t0, \"Solutions\": len(sols), **counters}\n",
    "\n",
    "rows = []\n",
    "for name, fn in [\n",
    "    (\"V0: Naive nested loops (late checks)\", solve_v0_naive),\n",
    "    (\"V1: Permutations baseline\",            solve_v1_permutations),\n",
    "    (\"V2: Early pruning at each depth\",      solve_v2_prune_early),\n",
    "    (\"V3: Order + carry pruning + early div\",solve_v3_carry_and_ordering),\n",
    "]:\n",
    "    rows.append(run_and_time(fn, name))\n",
    "\n",
    "pd.DataFrame(rows).fillna(0)\n"
   ]
  },
  {
   "cell_type": "code",
   "execution_count": null,
   "id": "d6daa519",
   "metadata": {},
   "outputs": [],
   "source": []
  }
 ],
 "metadata": {
  "kernelspec": {
   "display_name": "py_3_12",
   "language": "python",
   "name": "python3"
  },
  "language_info": {
   "codemirror_mode": {
    "name": "ipython",
    "version": 3
   },
   "file_extension": ".py",
   "mimetype": "text/x-python",
   "name": "python",
   "nbconvert_exporter": "python",
   "pygments_lexer": "ipython3",
   "version": "3.12.11"
  }
 },
 "nbformat": 4,
 "nbformat_minor": 5
}
